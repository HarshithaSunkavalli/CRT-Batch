{
 "cells": [
  {
   "cell_type": "markdown",
   "metadata": {},
   "source": [
    "# Collection Types"
   ]
  },
  {
   "cell_type": "markdown",
   "metadata": {},
   "source": [
    "## List\n",
    "## Tuple\n",
    "## Set\n",
    "## Dictionary"
   ]
  },
  {
   "cell_type": "code",
   "execution_count": 14,
   "metadata": {},
   "outputs": [
    {
     "name": "stdout",
     "output_type": "stream",
     "text": [
      "Enter range : 3\n",
      "Enter List : \n",
      "23\n",
      "4676\n",
      "0\n",
      "[23, 4676, 0]\n",
      "0\n",
      "4676\n",
      "0\n"
     ]
    }
   ],
   "source": [
    "a=[]\n",
    "n=int(input(\"Enter range : \"))\n",
    "print(\"Enter List : \")\n",
    "for i in range(n):\n",
    "    e=int(input())\n",
    "    a.append(e)\n",
    "print(a)\n",
    "print(a.index(23))\n",
    "print(max(a))\n",
    "print(min(a))"
   ]
  },
  {
   "cell_type": "code",
   "execution_count": 8,
   "metadata": {},
   "outputs": [
    {
     "name": "stdout",
     "output_type": "stream",
     "text": [
      "3.5 34 jhgf [34, 'jhgf']\n",
      "[34, 'jhgf', 456]\n",
      "[34, 'jhgf']\n",
      "[34]\n",
      "[]\n"
     ]
    }
   ],
   "source": [
    "a=[3.5,34,\"jhgf\"]\n",
    "i=0\n",
    "while(i!=len(a)):\n",
    "    print(a[i],end=\" \")\n",
    "    i=i+1\n",
    "del a[0]\n",
    "print(a)\n",
    "a.insert(2,456)\n",
    "print(a)\n",
    "a.pop()\n",
    "print(a)\n",
    "a.pop(1)\n",
    "print(a)\n",
    "a.remove(34)\n",
    "print(a)"
   ]
  },
  {
   "cell_type": "code",
   "execution_count": 16,
   "metadata": {},
   "outputs": [
    {
     "name": "stdout",
     "output_type": "stream",
     "text": [
      "Enter range : 3\n",
      "Enter List : \n",
      "sdfg\n",
      "abcd\n",
      "rtyu\n",
      "['sdfg', 'abcd', 'rtyu']\n",
      "['abcd', 'dfffg', 'dfg', 'rtyu', 'sdfg']\n",
      "sdfg rtyu dfg dfffg abcd \n"
     ]
    },
    {
     "data": {
      "text/plain": [
       "['sdfg', 'rtyu', 'dfg', 'dfffg', 'abcd']"
      ]
     },
     "execution_count": 16,
     "metadata": {},
     "output_type": "execute_result"
    }
   ],
   "source": [
    "#reverse\n",
    "a=[]\n",
    "n=int(input(\"Enter range : \"))\n",
    "print(\"Enter List : \")\n",
    "for i in range(n):\n",
    "    e=input()\n",
    "    a.append(e)\n",
    "print(a)\n",
    "a.insert(0,\"dfg\")\n",
    "a.append(\"dfffg\")\n",
    "a.sort()\n",
    "print(a)\n",
    "for i in range(1,len(a)+1):\n",
    "    print(a[-i],end=\" \")\n",
    "print()\n",
    "a.reverse()\n",
    "a"
   ]
  },
  {
   "cell_type": "code",
   "execution_count": 20,
   "metadata": {},
   "outputs": [
    {
     "name": "stdout",
     "output_type": "stream",
     "text": [
      "[23, 77, 67, 345, 233]\n",
      "\n",
      "[23, 77, 67, 345, 233]\n",
      "\n"
     ]
    },
    {
     "data": {
      "text/plain": [
       "[23, 234, 345]"
      ]
     },
     "execution_count": 20,
     "metadata": {},
     "output_type": "execute_result"
    }
   ],
   "source": [
    "a=[23,345,77,234,67,78,345,60,233]\n",
    "print(a[0:len(a):2])\n",
    "print()\n",
    "print(a[::2])\n",
    "print()\n",
    "a[::3]"
   ]
  },
  {
   "cell_type": "code",
   "execution_count": null,
   "metadata": {
    "collapsed": true
   },
   "outputs": [],
   "source": []
  }
 ],
 "metadata": {
  "kernelspec": {
   "display_name": "Python 3",
   "language": "python",
   "name": "python3"
  },
  "language_info": {
   "codemirror_mode": {
    "name": "ipython",
    "version": 3
   },
   "file_extension": ".py",
   "mimetype": "text/x-python",
   "name": "python",
   "nbconvert_exporter": "python",
   "pygments_lexer": "ipython3",
   "version": "3.6.3"
  }
 },
 "nbformat": 4,
 "nbformat_minor": 2
}
