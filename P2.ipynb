{
 "cells": [
  {
   "cell_type": "code",
   "execution_count": 1,
   "metadata": {},
   "outputs": [
    {
     "name": "stdout",
     "output_type": "stream",
     "text": [
      "10 24.5 gitam (2+4j)\n",
      "<class 'int'> <class 'float'> <class 'str'> <class 'complex'>\n"
     ]
    }
   ],
   "source": [
    "a=10\n",
    "b=24.5\n",
    "c=\"gitam\"\n",
    "d=2+4j\n",
    "print(a,b,c,d)\n",
    "print(type(a),type(b),type(c),type(d))"
   ]
  },
  {
   "cell_type": "code",
   "execution_count": 2,
   "metadata": {},
   "outputs": [
    {
     "name": "stdout",
     "output_type": "stream",
     "text": [
      "1777343568\n",
      "1777345008\n"
     ]
    }
   ],
   "source": [
    "a=10\n",
    "print(id(a))\n",
    "a=100\n",
    "print(id(a))"
   ]
  },
  {
   "cell_type": "code",
   "execution_count": 7,
   "metadata": {},
   "outputs": [
    {
     "name": "stdout",
     "output_type": "stream",
     "text": [
      "(2+5j) 2.0 5.0 (2-5j)\n",
      "(3+4j)\n"
     ]
    }
   ],
   "source": [
    "a=2+5j\n",
    "print(a,a.real,a.imag,a.conjugate())\n",
    "c=complex(3,4)\n",
    "print(c)"
   ]
  },
  {
   "cell_type": "code",
   "execution_count": 8,
   "metadata": {},
   "outputs": [
    {
     "name": "stdout",
     "output_type": "stream",
     "text": [
      "(5+9j) (-1+1j) (-14+23j)\n"
     ]
    }
   ],
   "source": [
    "a=2+5j\n",
    "c=3+4j\n",
    "print(a+c,a-c,a*c)"
   ]
  },
  {
   "cell_type": "code",
   "execution_count": 9,
   "metadata": {},
   "outputs": [
    {
     "name": "stdout",
     "output_type": "stream",
     "text": [
      "gitam\n",
      "gitam\n",
      "<class 'str'> <class 'str'>\n",
      "5\n"
     ]
    }
   ],
   "source": [
    "str=\"gitam\"\n",
    "str1='gitam'\n",
    "print(str)\n",
    "print(str1)\n",
    "print(type(str),type(str1))\n",
    "print(len(str))"
   ]
  },
  {
   "cell_type": "code",
   "execution_count": 10,
   "metadata": {},
   "outputs": [
    {
     "name": "stdout",
     "output_type": "stream",
     "text": [
      "enter number : 56\n",
      "<class 'str'>\n",
      "<class 'int'>\n",
      "the number :  56\n"
     ]
    }
   ],
   "source": [
    "a=input(\"enter number : \")\n",
    "print(type(a))\n",
    "b=int(a)\n",
    "print(type(b))\n",
    "print(\"the number : \",b)"
   ]
  },
  {
   "cell_type": "code",
   "execution_count": 12,
   "metadata": {},
   "outputs": [
    {
     "name": "stdout",
     "output_type": "stream",
     "text": [
      "Enter value : 4656\n",
      "Enter value : 6787\n",
      "Sum :  11443\n"
     ]
    }
   ],
   "source": [
    "a=int(input(\"Enter value : \"))\n",
    "b=int(input(\"Enter value : \"))\n",
    "print(\"Sum : \",a+b)"
   ]
  },
  {
   "cell_type": "code",
   "execution_count": 14,
   "metadata": {},
   "outputs": [
    {
     "name": "stdout",
     "output_type": "stream",
     "text": [
      "9 5 14 3.5 3 49 1\n"
     ]
    }
   ],
   "source": [
    "a=7\n",
    "b=2\n",
    "print(a+b,a-b,a*b,a/b,a//b,a**b,a%b)"
   ]
  },
  {
   "cell_type": "code",
   "execution_count": 15,
   "metadata": {},
   "outputs": [
    {
     "name": "stdout",
     "output_type": "stream",
     "text": [
      "6.25\n"
     ]
    }
   ],
   "source": [
    "a=2.5\n",
    "b=2\n",
    "print(pow(a,b))"
   ]
  },
  {
   "cell_type": "code",
   "execution_count": 16,
   "metadata": {},
   "outputs": [
    {
     "name": "stdout",
     "output_type": "stream",
     "text": [
      "True\n",
      "False\n",
      "True\n",
      "0\n",
      "1\n"
     ]
    }
   ],
   "source": [
    "x=10\n",
    "y=34\n",
    "print(x<34)\n",
    "print(x==y)\n",
    "print(x!=y)\n",
    "print(int(x>y))\n",
    "print(int(y>x))"
   ]
  },
  {
   "cell_type": "code",
   "execution_count": 18,
   "metadata": {},
   "outputs": [
    {
     "name": "stdout",
     "output_type": "stream",
     "text": [
      "False\n",
      "True\n",
      "False\n"
     ]
    }
   ],
   "source": [
    "x=10\n",
    "print(x>=20 and x<=30)\n",
    "print(x>=30 or x<=20)\n",
    "print(not(x))"
   ]
  },
  {
   "cell_type": "code",
   "execution_count": 20,
   "metadata": {},
   "outputs": [
    {
     "name": "stdout",
     "output_type": "stream",
     "text": [
      "False\n",
      "True\n"
     ]
    }
   ],
   "source": [
    "str1=\"gitam\"\n",
    "print('z' in str1)\n",
    "print('z' not in str1)"
   ]
  },
  {
   "cell_type": "code",
   "execution_count": 21,
   "metadata": {},
   "outputs": [
    {
     "name": "stdout",
     "output_type": "stream",
     "text": [
      "False\n",
      "True\n"
     ]
    }
   ],
   "source": [
    "a=34\n",
    "b=78\n",
    "print(a is b)\n",
    "print(a is not b)"
   ]
  },
  {
   "cell_type": "code",
   "execution_count": 33,
   "metadata": {},
   "outputs": [
    {
     "name": "stdout",
     "output_type": "stream",
     "text": [
      "[1, 2, 3, 4]\n",
      "gitamgitamgitam\n",
      "it\n",
      "1\n",
      "3\n",
      "5\n",
      "7\n",
      "9\n"
     ]
    }
   ],
   "source": [
    "c=[1,2]\n",
    "d=[3,4]\n",
    "print(c+d)\n",
    "d=\"gitam\"\n",
    "print(d*3)\n",
    "print(d[1:3])\n",
    "for i in range(1,10,2) :\n",
    "  print(i)"
   ]
  },
  {
   "cell_type": "code",
   "execution_count": 36,
   "metadata": {},
   "outputs": [
    {
     "name": "stdout",
     "output_type": "stream",
     "text": [
      "Enter number : 0\n",
      "Its Zero\n"
     ]
    }
   ],
   "source": [
    "a=int(input(\"Enter number : \"))\n",
    "if(a<0):\n",
    "    print(\"Negative\")\n",
    "if(a>0):\n",
    "    print(\"Positive\")\n",
    "if(a==0):\n",
    "    print(\"Its Zero\")"
   ]
  },
  {
   "cell_type": "code",
   "execution_count": 43,
   "metadata": {},
   "outputs": [
    {
     "name": "stdout",
     "output_type": "stream",
     "text": [
      "Enter value : 34\n",
      "34  is even\n"
     ]
    }
   ],
   "source": [
    "a=int(input(\"Enter value : \"))\n",
    "if(a%2==0):\n",
    "    print(a,\" is even\")\n",
    "else:\n",
    "    print(a,\" is odd\")\n"
   ]
  },
  {
   "cell_type": "code",
   "execution_count": 53,
   "metadata": {},
   "outputs": [
    {
     "name": "stdout",
     "output_type": "stream",
     "text": [
      "Enter Year : 1700\n",
      "1700  is not a leap year.\n"
     ]
    }
   ],
   "source": [
    "a=int(input(\"Enter Year : \"))\n",
    "if((a%100!=0 and a%4==0) or a%400==0):\n",
    "    print(a,\" is a leap year.\")\n",
    "else:\n",
    "    print(a,\" is not a leap year.\")"
   ]
  },
  {
   "cell_type": "code",
   "execution_count": 48,
   "metadata": {},
   "outputs": [
    {
     "name": "stdout",
     "output_type": "stream",
     "text": [
      "Enter value : 70\n",
      "Enter value : 98\n",
      "98 is greater\n"
     ]
    }
   ],
   "source": [
    "a=int(input(\"Enter value : \"))\n",
    "b=int(input(\"Enter value : \"))\n",
    "if(a>b):\n",
    "    print(a,\" is greater\")\n",
    "elif(b>a):\n",
    "    print(b,\"is greater\")\n",
    "else:\n",
    "    print(\"Equal\")"
   ]
  },
  {
   "cell_type": "code",
   "execution_count": 54,
   "metadata": {},
   "outputs": [
    {
     "name": "stdout",
     "output_type": "stream",
     "text": [
      "80 50\n"
     ]
    }
   ],
   "source": [
    "a=50\n",
    "b=80\n",
    "a,b=b,a\n",
    "print(a,b)"
   ]
  },
  {
   "cell_type": "code",
   "execution_count": 11,
   "metadata": {},
   "outputs": [
    {
     "name": "stdout",
     "output_type": "stream",
     "text": [
      "Enter value : 9\n",
      "Enter value : 8\n",
      "1.Add, 2.Subtract, 3.Multiply, 4.Divide, 5.Remainder, 6.Power\n",
      "Enter choice : 9\n",
      "Invalid Choice\n"
     ]
    }
   ],
   "source": [
    "a=int(input(\"Enter value : \"))\n",
    "b=int(input(\"Enter value : \"))\n",
    "print(\"1.Add, 2.Subtract, 3.Multiply, 4.Divide, 5.Remainder, 6.Power\")\n",
    "c=int(input(\"Enter choice : \"))\n",
    "if(c==1):\n",
    "    print(a+b)\n",
    "elif(c==2):\n",
    "    print(a-b)\n",
    "elif(c==3):\n",
    "    print(a*b)\n",
    "elif(c==4):\n",
    "    print(a/b)\n",
    "elif(c==5):\n",
    "    print(a%b)\n",
    "elif(c==6):\n",
    "    print(a**b)\n",
    "else:\n",
    "    print(\"Invalid Choice\")"
   ]
  },
  {
   "cell_type": "code",
   "execution_count": 4,
   "metadata": {},
   "outputs": [
    {
     "name": "stdout",
     "output_type": "stream",
     "text": [
      "Enter Alphabet : d\n",
      "d  is a consonant\n"
     ]
    }
   ],
   "source": [
    "a=\"aeiou\"\n",
    "b=input(\"Enter Alphabet : \")\n",
    "if(b in a):\n",
    "    print(b,\" is a vowel\")\n",
    "else:\n",
    "    print(b,\" is a consonant\")\n",
    "#GRP OF STRINGS ALSO GIVES VOWEL"
   ]
  },
  {
   "cell_type": "code",
   "execution_count": 10,
   "metadata": {},
   "outputs": [
    {
     "name": "stdout",
     "output_type": "stream",
     "text": [
      "Enter Alphabet : A\n",
      "A  is a vowel\n"
     ]
    }
   ],
   "source": [
    "a=['a','e','i','o','u','A','E','I','O','U']\n",
    "b=input(\"Enter Alphabet : \")\n",
    "if(b in a):\n",
    "    print(b,\" is a vowel\")\n",
    "else:\n",
    "    print(b,\" is a consonant\")"
   ]
  },
  {
   "cell_type": "code",
   "execution_count": null,
   "metadata": {
    "collapsed": true
   },
   "outputs": [],
   "source": []
  }
 ],
 "metadata": {
  "kernelspec": {
   "display_name": "Python 3",
   "language": "python",
   "name": "python3"
  },
  "language_info": {
   "codemirror_mode": {
    "name": "ipython",
    "version": 3
   },
   "file_extension": ".py",
   "mimetype": "text/x-python",
   "name": "python",
   "nbconvert_exporter": "python",
   "pygments_lexer": "ipython3",
   "version": "3.6.3"
  }
 },
 "nbformat": 4,
 "nbformat_minor": 2
}
