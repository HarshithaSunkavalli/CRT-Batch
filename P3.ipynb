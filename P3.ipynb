{
 "cells": [
  {
   "cell_type": "code",
   "execution_count": 4,
   "metadata": {},
   "outputs": [
    {
     "name": "stdout",
     "output_type": "stream",
     "text": [
      "Enter Range : 5\n",
      "0r\t 1r\t 2r\t 3r\t 4r\t \n",
      "1 3 5 7 9 "
     ]
    }
   ],
   "source": [
    "n=int(input(\"Enter Range : \"))\n",
    "for i in range(n):\n",
    "    print(i,end=\"r\\t \")\n",
    "print()\n",
    "for i in range(1,10,2):\n",
    "    print(i,end=\" \")"
   ]
  },
  {
   "cell_type": "code",
   "execution_count": 5,
   "metadata": {},
   "outputs": [
    {
     "name": "stdout",
     "output_type": "stream",
     "text": [
      "Enter range : 10\n",
      "55\n"
     ]
    }
   ],
   "source": [
    "n=int(input(\"Enter range : \"))\n",
    "sum=0\n",
    "for i in range(1,n+1):\n",
    "    sum+=i\n",
    "print(sum)"
   ]
  },
  {
   "cell_type": "code",
   "execution_count": 9,
   "metadata": {},
   "outputs": [
    {
     "name": "stdout",
     "output_type": "stream",
     "text": [
      "g i t a m   h y d \n",
      "g i t a m   h y d "
     ]
    }
   ],
   "source": [
    "str1=\"gitam hyd\"\n",
    "for i in range(len(str1)):\n",
    "    print(str1[i],end=\" \")\n",
    "print()\n",
    "for i in str1:\n",
    "    print(i,end=\" \")"
   ]
  },
  {
   "cell_type": "code",
   "execution_count": 11,
   "metadata": {},
   "outputs": [
    {
     "name": "stdout",
     "output_type": "stream",
     "text": [
      " 676\n",
      "Palindrome\n"
     ]
    }
   ],
   "source": [
    "n=int(input(\" \"))\n",
    "num=n\n",
    "rev=0\n",
    "while(n!=0):\n",
    "    r=n%10\n",
    "    rev=rev*10+r\n",
    "    n=n//10\n",
    "if (rev==num):\n",
    "    print(\"Palindrome\")\n",
    "else:\n",
    "    print(\"Not Palindrome\")"
   ]
  },
  {
   "cell_type": "code",
   "execution_count": 12,
   "metadata": {},
   "outputs": [
    {
     "name": "stdout",
     "output_type": "stream",
     "text": [
      " 23985\n",
      "9\n"
     ]
    }
   ],
   "source": [
    "n=int(input(\" \"))\n",
    "max=0\n",
    "while(n!=0):\n",
    "    r=n%10\n",
    "    if(r>max):\n",
    "        max=r\n",
    "    n=n//10\n",
    "print(max)"
   ]
  },
  {
   "cell_type": "code",
   "execution_count": 13,
   "metadata": {},
   "outputs": [
    {
     "name": "stdout",
     "output_type": "stream",
     "text": [
      " 49751\n",
      "1\n"
     ]
    }
   ],
   "source": [
    "n=int(input(\" \"))\n",
    "max=9\n",
    "while(n!=0):\n",
    "    r=n%10\n",
    "    if(r<max):\n",
    "        max=r\n",
    "    n=n//10\n",
    "print(max)"
   ]
  },
  {
   "cell_type": "code",
   "execution_count": 15,
   "metadata": {},
   "outputs": [
    {
     "name": "stdout",
     "output_type": "stream",
     "text": [
      "Enter value : 5\n",
      "120\n"
     ]
    }
   ],
   "source": [
    "n=int(input(\"Enter value : \"))\n",
    "f=1\n",
    "for i in range(1,n+1):\n",
    "    f=f*i\n",
    "print(f)"
   ]
  },
  {
   "cell_type": "code",
   "execution_count": 17,
   "metadata": {},
   "outputs": [
    {
     "name": "stdout",
     "output_type": "stream",
     "text": [
      "Enter value : 3\n",
      "Enter value : 5\n",
      "8\n"
     ]
    }
   ],
   "source": [
    "def add(a,b):\n",
    "    return a+b\n",
    "a=int(input(\"Enter value : \"))\n",
    "b=int(input(\"Enter value : \"))\n",
    "print(add(a,b))"
   ]
  },
  {
   "cell_type": "code",
   "execution_count": 19,
   "metadata": {},
   "outputs": [
    {
     "name": "stdout",
     "output_type": "stream",
     "text": [
      "Enter value : 576984\n",
      "18\n"
     ]
    }
   ],
   "source": [
    "def add(n):\n",
    "    r=0\n",
    "    sum=0\n",
    "    while(n!=0):\n",
    "        r=n%10\n",
    "        if(r%2==0):\n",
    "            sum+=r\n",
    "        n=n//10\n",
    "    return sum\n",
    "n=int(input(\"Enter value : \"))\n",
    "print(add(n))"
   ]
  },
  {
   "cell_type": "code",
   "execution_count": 22,
   "metadata": {},
   "outputs": [
    {
     "name": "stdout",
     "output_type": "stream",
     "text": [
      "Enter value : 6\n",
      "1 2 3 6\n"
     ]
    }
   ],
   "source": [
    "def fact(n):\n",
    "    i=1\n",
    "    while(i<=n/2):\n",
    "        if(n%i==0):\n",
    "            print(i,end=\" \")\n",
    "        i+=1\n",
    "    print(n)\n",
    "    return \n",
    "n=int(input(\"Enter value : \"))\n",
    "fact(n)"
   ]
  },
  {
   "cell_type": "code",
   "execution_count": 33,
   "metadata": {},
   "outputs": [
    {
     "name": "stdout",
     "output_type": "stream",
     "text": [
      "Enter n : 5\n",
      "Enter r : 4\n",
      "5\n"
     ]
    }
   ],
   "source": [
    "def comb(n):\n",
    "    f=1\n",
    "    for i in range(1,n+1):\n",
    "        f=f*i\n",
    "    return f\n",
    "\n",
    "n=int(input(\"Enter n : \"))\n",
    "r=int(input(\"Enter r : \"))\n",
    "\n",
    "print(int(fact(n)/(fact(r)*fact(n-r))))\n",
    "    "
   ]
  },
  {
   "cell_type": "code",
   "execution_count": 30,
   "metadata": {},
   "outputs": [
    {
     "name": "stdout",
     "output_type": "stream",
     "text": [
      "10\n"
     ]
    }
   ],
   "source": [
    "def nCr(n, r): \n",
    "  \n",
    "    return (fact(n) / (fact(r)  \n",
    "                * fact(n - r))) \n",
    "  \n",
    "# Returns factorial of n \n",
    "def fact(n): \n",
    "  \n",
    "    res = 1\n",
    "      \n",
    "    for i in range(1, n+1): \n",
    "        res = res * i \n",
    "          \n",
    "    return res \n",
    "  \n",
    "# Driver code \n",
    "n = 5\n",
    "r = 2\n",
    "print(int(nCr(n, r)))"
   ]
  },
  {
   "cell_type": "code",
   "execution_count": 34,
   "metadata": {},
   "outputs": [
    {
     "name": "stdout",
     "output_type": "stream",
     "text": [
      "my, name, is, x, "
     ]
    }
   ],
   "source": [
    "str=\"my name is x\"\n",
    "for i in str.split():\n",
    "    print(i,end=\", \")\n"
   ]
  },
  {
   "cell_type": "code",
   "execution_count": 35,
   "metadata": {
    "collapsed": true
   },
   "outputs": [],
   "source": [
    "x=0\n",
    "while False:\n",
    "    x=x+1\n",
    "    print(\"hello\")"
   ]
  },
  {
   "cell_type": "code",
   "execution_count": 36,
   "metadata": {},
   "outputs": [
    {
     "name": "stdout",
     "output_type": "stream",
     "text": [
      "[1, 3, 5, 7, 9]\n"
     ]
    }
   ],
   "source": [
    "a=[1,2,3,4,5,6,7,8,9]\n",
    "print(a[::2])"
   ]
  },
  {
   "cell_type": "code",
   "execution_count": 37,
   "metadata": {},
   "outputs": [
    {
     "name": "stdout",
     "output_type": "stream",
     "text": [
      "4\n",
      "3\n",
      "2\n",
      "1\n"
     ]
    }
   ],
   "source": [
    "for i in [1,2,3,4][::-1]:\n",
    "    print(i)"
   ]
  },
  {
   "cell_type": "code",
   "execution_count": 38,
   "metadata": {},
   "outputs": [
    {
     "name": "stdout",
     "output_type": "stream",
     "text": [
      "2\n",
      "3\n",
      "4\n",
      "5\n",
      "6\n",
      "7\n",
      "8\n",
      "9\n",
      "10\n"
     ]
    }
   ],
   "source": [
    "x=2\n",
    "while x<=10:\n",
    "    print(x)\n",
    "    x=x+1"
   ]
  },
  {
   "cell_type": "code",
   "execution_count": null,
   "metadata": {
    "collapsed": true
   },
   "outputs": [],
   "source": []
  }
 ],
 "metadata": {
  "kernelspec": {
   "display_name": "Python 3",
   "language": "python",
   "name": "python3"
  },
  "language_info": {
   "codemirror_mode": {
    "name": "ipython",
    "version": 3
   },
   "file_extension": ".py",
   "mimetype": "text/x-python",
   "name": "python",
   "nbconvert_exporter": "python",
   "pygments_lexer": "ipython3",
   "version": "3.6.3"
  }
 },
 "nbformat": 4,
 "nbformat_minor": 2
}
